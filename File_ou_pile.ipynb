{
 "cells": [
  {
   "cell_type": "markdown",
   "id": "9ae774f3",
   "metadata": {},
   "source": [
    "# File d'attente\n",
    "### Ce code permet de connaître quel est la meilleure file d'attente a avoir selon les comportements des évènements"
   ]
  },
  {
   "cell_type": "markdown",
   "id": "c8e89268",
   "metadata": {},
   "source": [
    "## Bloc de test \n",
    "Ce bloc permet de créer les évènements qui rentreront dans la file d'attente. La matrice E sera la matrice qui comportera toutes les informations sur les événements. On y ajoutera le temps d'attent de chaque événements dans la dernière ligne de la matrice afin de connaître l'efficacité du système d'attente que l'on étudie"
   ]
  },
  {
   "cell_type": "code",
   "execution_count": 8,
   "id": "21519781",
   "metadata": {
    "scrolled": true
   },
   "outputs": [
    {
     "data": {
      "text/plain": [
       "[<matplotlib.lines.Line2D at 0x13de0d37910>]"
      ]
     },
     "execution_count": 8,
     "metadata": {},
     "output_type": "execute_result"
    },
    {
     "data": {
      "image/png": "[encoded data removed]",
      "text/plain": [
       "<Figure size 432x288 with 1 Axes>"
      ]
     },
     "metadata": {
      "needs_background": "light"
     },
     "output_type": "display_data"
    }
   ],
   "source": [
    "import numpy as np\n",
    "import matplotlib.pylab as plt\n",
    "\n",
    "#On écrit le testeur de notre système\n",
    "\n",
    "\"\"\"\n",
    "Données de test\n",
    "\"\"\"\n",
    "size = 200  #Nombre d'événemets total\n",
    "tmin = 1 #temps minimun pour effecturer le traitement d'un évènement\n",
    "tmax = 20 #temps maximum pour effecturer le traitement d'un évènement\n",
    "tapp = 2000 #temps total d'appartition d'un evènement à traiter\n",
    "\n",
    "import numpy as np\n",
    "from random import random\n",
    "\n",
    "\"\"\"\n",
    "Création de la matrice qui comportera toutes les informations sur les événements\n",
    "\"\"\"\n",
    "E = np.zeros((4,size))\n",
    "\n",
    "#indice 0 : id de l'événement \n",
    "for i in range(size):\n",
    "    E[0,i]=i \n",
    "    \n",
    "#indice 1 : date d'apparition de l'événement\n",
    "#E[1,:] = (np.random.normal(500, 50, size)).astype(int)\n",
    "for j in range(size):\n",
    "    #E[1,j]= int(np.random.exponential()*tapp/4)\n",
    "    E[1,j]= int(random()*tapp) #Répartition uniforme\n",
    "    if (E[1,j]<0):\n",
    "        E[1,j]=0\n",
    "#indice 2 : temps de traitement de l'événement\n",
    "for k in range(size):\n",
    "    E[2,k]= int(random()*(tmax-tmin)+tmin)\n",
    "\n",
    "#indice 3 : résultats, temps d'attente de l'événement\n",
    "\n",
    "#On trie la liste selon l'ordre d'arrivée des événements.\n",
    "\n",
    "E=E.T\n",
    "E = E[E[:,1].argsort()]\n",
    "E=E.T\n",
    "    \n",
    "\"\"\"\n",
    "Calcul des valeurs caractéristiques de la matrice\n",
    "\"\"\"\n",
    "#temps maximum requis pour effectuer tous les traitements\n",
    "ttotal=E[1,0]\n",
    "for l in range(size):\n",
    "    ttotal+= E[2,l]\n",
    "\n",
    "\n",
    "plt.plot(E[1,:])\n"
   ]
  },
  {
   "cell_type": "markdown",
   "id": "2757cb2b",
   "metadata": {},
   "source": [
    "## Premier système : la file\n",
    "On crée la matrice finale Ef"
   ]
  },
  {
   "cell_type": "code",
   "execution_count": 9,
   "id": "85a08916",
   "metadata": {},
   "outputs": [],
   "source": [
    "import numpy as np\n",
    "from random import random\n",
    "\n",
    "        \n",
    "def begin(l,cmpt):\n",
    "    l[3] = cmpt - l[1]\n",
    "    \n",
    "\n",
    "           \n",
    "Ef = np.zeros((4,size))\n",
    "Ef=np.copy(E)\n",
    "\n",
    "#Comportement d'une file\n",
    "\n",
    "size = len(E[0,:])\n",
    "cmptFile = np.zeros(int(ttotal))\n",
    "i = 0\n",
    "file = []\n",
    "cmpt = 0\n",
    "proc = 0\n",
    "active = False #Y a t-il un traitement en cours ?\n",
    "start = Ef[0,1]\n",
    "\n",
    "while (proc < size) and (cmpt<ttotal):\n",
    "    while (i<size) and (Ef[1,i]==cmpt) :\n",
    "        file.append(i)\n",
    "\n",
    "        i+=1\n",
    "        \n",
    "    \n",
    "    if proc==size :\n",
    "        print(\"End of processing\")\n",
    "        \n",
    "    else :\n",
    "        if (cmpt == (start+ Ef[2,proc])):\n",
    "            if len(file)>0 :\n",
    "                proc = int(file[0])\n",
    "                start = cmpt\n",
    "                del file[0]\n",
    "                begin(Ef[:,proc], cmpt)\n",
    "                active = True\n",
    "            else : \n",
    "                active = False\n",
    "            \n",
    "        if active == False :\n",
    "            if len(file)>0:\n",
    "                proc = int(file[0])\n",
    "                start = cmpt\n",
    "                del file[0]\n",
    "                begin(Ef[:,proc],cmpt)\n",
    "                active = True\n",
    "            else : \n",
    "                active = False\n",
    "    \n",
    "    cmptFile[cmpt] = len(file)\n",
    "    cmpt+=1\n"
   ]
  },
  {
   "cell_type": "markdown",
   "id": "a3fc3158",
   "metadata": {},
   "source": [
    "## Deuxième système : la pile\n",
    "On crée la matrice finale Ep"
   ]
  },
  {
   "cell_type": "code",
   "execution_count": 10,
   "id": "219d6a46",
   "metadata": {},
   "outputs": [],
   "source": [
    "import numpy as np\n",
    "from random import random\n",
    "\n",
    "        \n",
    "def begin(l,cmpt):\n",
    "    l[3] = cmpt - l[1]\n",
    "    \n",
    "\n",
    "           \n",
    "Ep = np.zeros((4,size))\n",
    "Ep=np.copy(E)\n",
    "\n",
    "#Comportement d'une pile\n",
    "\n",
    "size = len(E[0,:])\n",
    "cmptPile = np.zeros(int(ttotal))\n",
    "i = 0\n",
    "pile = []\n",
    "cmpt = 0\n",
    "proc = 0\n",
    "active = False #Y a t-il un traitement en cours ?\n",
    "start = Ef[0,1]\n",
    "\n",
    "while (proc < size) and (cmpt<ttotal):\n",
    "    while (i<size) and (Ef[1,i]==cmpt) :\n",
    "        pile.append(i)\n",
    "        i+=1\n",
    "        \n",
    "    \n",
    "    if proc==size :\n",
    "        print(\"End of processing\")\n",
    "        \n",
    "    else :\n",
    "        if (cmpt == (start+ Ep[2,proc])):\n",
    "            if len(pile)>0 :\n",
    "                proc = int(pile[-1])\n",
    "                start = cmpt\n",
    "                del pile[-1]\n",
    "                begin(Ep[:,proc], cmpt)\n",
    "                active = True\n",
    "            else : \n",
    "                active = False\n",
    "            \n",
    "        if active == False :\n",
    "            if len(pile)>0:\n",
    "                proc = int(pile[-1])\n",
    "                start = cmpt\n",
    "                del pile[-1]\n",
    "                begin(Ep[:,proc],cmpt)\n",
    "                active = True\n",
    "            else : \n",
    "                active = False\n",
    "    \n",
    "    cmptPile[cmpt] = len(pile)\n",
    "    cmpt+=1\n"
   ]
  },
  {
   "cell_type": "markdown",
   "id": "264ce3a0",
   "metadata": {},
   "source": [
    "## Troisième système : la file du plus rapide\n",
    "On crée la matrice finale Efr"
   ]
  },
  {
   "cell_type": "code",
   "execution_count": 11,
   "id": "c7bad45e",
   "metadata": {},
   "outputs": [],
   "source": [
    "import numpy as np\n",
    "from random import random\n",
    "    \n",
    "def begin(l,cmpt):\n",
    "    l[3] = cmpt - l[1]\n",
    "    \n",
    "def quickEvent(E,file) :\n",
    "    mini = int(file[0])\n",
    "    ind_mini = 0\n",
    "    for i in range(len(file)):\n",
    "        if (E[2,i]<E[2,file[ind_mini]]):\n",
    "            mini = int(file[i])\n",
    "            ind_mini = i\n",
    "    return mini, ind_mini\n",
    "           \n",
    "Efr = np.zeros((4,size))\n",
    "Efr = np.copy(E)\n",
    "\n",
    "#Comportement d'une file optimisée\n",
    "\n",
    "size = len(E[0,:])\n",
    "cmptFileR = np.zeros(int(ttotal))\n",
    "i = 0\n",
    "fileR = []\n",
    "cmpt = 0\n",
    "proc = 0\n",
    "active = False #Y a t-il un traitement en cours ?\n",
    "start = Efr[0,1]\n",
    "\n",
    "while (proc < size) and (cmpt<ttotal):\n",
    "    while (i < size) and (Ef[1,i] == cmpt) :\n",
    "        fileR.append(i)\n",
    "        i+=1\n",
    "    \n",
    "    if proc ==size :\n",
    "        print(\"End of processing\")\n",
    "        \n",
    "    else :\n",
    "        if (cmpt == (start+ Efr[2,proc])):\n",
    "            if len(fileR)>0 :\n",
    "                mini, ind_mini = quickEvent(Efr,fileR)\n",
    "                proc = int(mini)\n",
    "                start = cmpt\n",
    "                del fileR[ind_mini]\n",
    "                begin(Efr[:,proc], cmpt)\n",
    "                active = True\n",
    "            else : \n",
    "                active = False\n",
    "            \n",
    "        if active == False :\n",
    "            if len(fileR)>0:\n",
    "                mini, ind_mini = quickEvent(Efr,fileR)\n",
    "                proc = int(mini)\n",
    "                start = cmpt\n",
    "                del fileR[ind_mini]\n",
    "                begin(Efr[:,proc],cmpt)\n",
    "                active = True\n",
    "            else : \n",
    "                active = False\n",
    "    \n",
    "    cmptFileR[cmpt] = len(fileR)\n",
    "    cmpt+=1"
   ]
  },
  {
   "cell_type": "markdown",
   "id": "27b75227",
   "metadata": {},
   "source": [
    "## Affichage des résultats\n",
    "Ef correspaond à un système file, Ep à un système pile"
   ]
  },
  {
   "cell_type": "code",
   "execution_count": 12,
   "id": "24000638",
   "metadata": {
    "scrolled": false
   },
   "outputs": [
    {
     "data": {
      "image/png": "[encoded data removed]",
      "text/plain": [
       "<Figure size 432x288 with 1 Axes>"
      ]
     },
     "metadata": {
      "needs_background": "light"
     },
     "output_type": "display_data"
    },
    {
     "name": "stdout",
     "output_type": "stream",
     "text": [
      "Résulats du système file : \n",
      "Moyenne de temps d'attente =  92.265\n",
      "Médiane =  94.0\n",
      "\n",
      "Résulats du système pile : \n",
      "Moyenne de temps d'attente =  66.525\n",
      "Médiane =  228.0\n",
      "\n",
      "Résulats du système file optimisée : \n",
      "Moyenne de temps d'attente =  46.475\n",
      "Médiane =  218.0\n",
      "\n",
      "Répartition du temps d'attente :\n",
      "1531.0\n",
      "1531.0\n"
     ]
    },
    {
     "data": {
      "image/png": "[encoded data removed]",
      "text/plain": [
       "<Figure size 432x288 with 3 Axes>"
      ]
     },
     "metadata": {
      "needs_background": "light"
     },
     "output_type": "display_data"
    },
    {
     "name": "stdout",
     "output_type": "stream",
     "text": [
      "[ 3.  9. 19.]\n",
      "[0. 0. 0. ... 4. 4. 4.]\n"
     ]
    }
   ],
   "source": [
    "import numpy as np\n",
    "import matplotlib.pylab as plt\n",
    "\n",
    "abc1 = np.array([x for x in range(int(ttotal))])\n",
    "def moyenne(E):\n",
    "    w = 0\n",
    "    length = len(E[0,:])\n",
    "    for i in range(length) :\n",
    "        w+= E[3,i]\n",
    "    return w/length\n",
    "\n",
    "def medianequartile(E):\n",
    "    length = len(E[0,:])\n",
    "    return np.array([E[3,int(length/4)],E[3,int(length/2)],E[3,int(3*length/4)]])\n",
    "    \n",
    "\n",
    "plt.plot(abc1,cmptFile,\"b-\" ,label = 'File')\n",
    "plt.plot(abc1,cmptPile,\"r-\",label = 'Pile')# Tracé de la courbe\n",
    "plt.plot(abc1,cmptFileR,\"g-\",label = 'File optimisée')\n",
    "plt.title('Résultats')  # Ajout d'un titre\n",
    "plt.xlabel('Temps (unité arbitraire)')         # Nom de la grandeur en abscisse\n",
    "plt.ylabel('Nombre de personne dans le système d\\'attente')  # Nom de la grandeur en ordonnée\n",
    "plt.legend()\n",
    "plt.grid()              # Ajout d'une grille\n",
    "plt.show()              # Affichage\n",
    "\n",
    "print(\"Résulats du système file : \")\n",
    "print(\"Moyenne de temps d'attente = \", moyenne(Ef))\n",
    "print(\"Médiane = \",medianequartile(Ef)[1])\n",
    "print(\"\")\n",
    "print(\"Résulats du système pile : \")\n",
    "print(\"Moyenne de temps d'attente = \", moyenne(Ep))\n",
    "#print(medianequartile(Ep))\n",
    "print(\"Médiane = \", medianequartile(Ep)[1])\n",
    "print(\"\")\n",
    "print(\"Résulats du système file optimisée : \")\n",
    "print(\"Moyenne de temps d'attente = \", moyenne(Efr))\n",
    "print(\"Médiane = \",medianequartile(Efr)[1])\n",
    "\n",
    "Ef=Ef.T\n",
    "Ef = Ef[Ef[:,3].argsort()]\n",
    "Ef=Ef.T\n",
    "Ep=Ep.T\n",
    "Ep = Ep[Ep[:,3].argsort()]\n",
    "Ep=Ep.T\n",
    "Efr=Efr.T\n",
    "Efr = Efr[Efr[:,3].argsort()]\n",
    "Efr=Efr.T\n",
    "\n",
    "print(\"\")\n",
    "print(\"Répartition du temps d'attente :\")\n",
    "\n",
    "max_wait = max([max(Ef[3,:]),max(Ep[3,:]),max(Efr[3,:])])\n",
    "abc2=np.array([x for x in range(size)])\n",
    "plt.subplot(1,3,1)\n",
    "plt.bar(abc2, Ef[3,:],color ='b') \n",
    "plt.ylim(0, max_wait*1.1)\n",
    "plt.ylabel(\"Temps d'attente de l'événement\")\n",
    "plt.xlabel(\"Evénements\")  \n",
    "\n",
    "plt.subplot(1,3,2)\n",
    "plt.bar(abc2, Ep[3,:],color = 'r') \n",
    "plt.ylim(0, max_wait*1.1)\n",
    "plt.xlabel(\"Evénements\")\n",
    "\n",
    "plt.subplot(1,3,3)\n",
    "plt.bar(abc2, Efr[3,:],color = 'g') \n",
    "plt.ylim(0, max_wait*1.1)\n",
    "plt.xlabel(\"Evénements\")\n",
    "print(max_wait)\n",
    "print(Ep[3,-1])\n",
    "plt.show() \n",
    "print(medianequartile(Efr))\n",
    "print(cmptFileR)"
   ]
  },
  {
   "cell_type": "code",
   "execution_count": null,
   "id": "a7e89b97",
   "metadata": {},
   "outputs": [],
   "source": []
  },
  {
   "cell_type": "code",
   "execution_count": null,
   "id": "c5e904f5",
   "metadata": {},
   "outputs": [],
   "source": []
  },
  {
   "cell_type": "code",
   "execution_count": null,
   "id": "c24548db",
   "metadata": {},
   "outputs": [],
   "source": []
  },
  {
   "cell_type": "code",
   "execution_count": null,
   "id": "eb4b9784",
   "metadata": {},
   "outputs": [],
   "source": []
  }
 ],
 "metadata": {
  "kernelspec": {
   "display_name": "Python 3",
   "language": "python",
   "name": "python3"
  },
  "language_info": {
   "codemirror_mode": {
    "name": "ipython",
    "version": 3
   },
   "file_extension": ".py",
   "mimetype": "text/x-python",
   "name": "python",
   "nbconvert_exporter": "python",
   "pygments_lexer": "ipython3",
   "version": "3.8.8"
  }
 },
 "nbformat": 4,
 "nbformat_minor": 5
}
